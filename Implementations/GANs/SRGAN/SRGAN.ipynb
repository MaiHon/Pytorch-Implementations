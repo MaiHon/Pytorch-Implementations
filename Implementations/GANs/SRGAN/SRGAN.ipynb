{
 "cells": [
  {
   "cell_type": "code",
   "execution_count": 1,
   "metadata": {},
   "outputs": [],
   "source": [
    "import torch\n",
    "import torch.nn as nn\n",
    "import torch.optim as optim\n",
    "import torch.nn.functional as F\n",
    "\n",
    "import torchvision\n",
    "import torchvision.transforms as tfms\n",
    "import torchvision.datasets as dsets\n",
    "from torchvision.utils import save_image, make_grid"
   ]
  },
  {
   "cell_type": "code",
   "execution_count": 2,
   "metadata": {},
   "outputs": [],
   "source": [
    "from IPython.display import clear_output\n",
    "import matplotlib.pyplot as plt\n",
    "import numpy as np\n",
    "from PIL import Image\n",
    "import glob\n",
    "import sys\n",
    "\n",
    "# from torchsummaryM import summary"
   ]
  },
  {
   "cell_type": "code",
   "execution_count": 3,
   "metadata": {},
   "outputs": [
    {
     "name": "stdout",
     "output_type": "stream",
     "text": [
      "cuda\n"
     ]
    }
   ],
   "source": [
    "device = torch.device(\"cuda\" if torch.cuda.is_available() else \"cpu\")\n",
    "print(device)"
   ]
  },
  {
   "cell_type": "code",
   "execution_count": 4,
   "metadata": {},
   "outputs": [],
   "source": [
    "# Weight Initializer\n",
    "\n",
    "def weights_init_normal(m):\n",
    "    classname = m.__class__.__name__\n",
    "    if classname.find(\"Conv\") != -1:\n",
    "        torch.nn.init.normal_(m.weight.data, 0.0, 0.02)\n",
    "    elif classname.find(\"BatchNorm\") != -1:\n",
    "        torch.nn.init.normal_(m.weight.data, 1.0, 0.02)\n",
    "        torch.nn.init.constant_(m.bias.data, 0.0)"
   ]
  },
  {
   "cell_type": "code",
   "execution_count": 5,
   "metadata": {},
   "outputs": [],
   "source": [
    "class ResidualBlock(nn.Module):\n",
    "    def __init__(self, in_c):\n",
    "        super(ResidualBlock, self).__init__()\n",
    "        self.conv_block = nn.Sequential(\n",
    "            nn.Conv2d(in_c, in_c, 3, 1, 1),\n",
    "            nn.BatchNorm2d(in_c, 0.8),\n",
    "            nn.PReLU(),\n",
    "            nn.Conv2d(in_c, in_c, 3, 1, 1),\n",
    "            nn.BatchNorm2d(in_c, 0.8),\n",
    "        )\n",
    "    def forward(self, x):\n",
    "        return x + self.conv_block(x)"
   ]
  },
  {
   "cell_type": "code",
   "execution_count": 6,
   "metadata": {},
   "outputs": [],
   "source": [
    "class GeneratorResNet(nn.Module):\n",
    "    def __init__(self, in_c, out_c, n_blocks=16):\n",
    "        super(GeneratorResNet, self).__init__()\n",
    "        \n",
    "        self.conv1 = nn.Sequential(\n",
    "            nn.Conv2d(in_c, 64, kernel_size=9, stride=1, padding=4), \n",
    "            nn.PReLU()\n",
    "        )\n",
    "        \n",
    "        res = []\n",
    "        for _ in range(n_blocks):\n",
    "            res.append(ResidualBlock(64))\n",
    "        self.res_blocks = nn.Sequential(\n",
    "            *res\n",
    "        )\n",
    "        \n",
    "        self.conv2 = nn.Sequential(\n",
    "            nn.Conv2d(64, 64, 3, 1, 1),\n",
    "            nn.BatchNorm2d(64, 0.8)\n",
    "        )\n",
    "        \n",
    "        up = []\n",
    "        for _ in range(2):\n",
    "            up += [\n",
    "                nn.Conv2d(64, 256, 3, 1, 1),\n",
    "                nn.BatchNorm2d(256),\n",
    "                nn.PixelShuffle(upscale_factor=2),  # (b, C×(r^2), H, W) => (b, C, rxH, rxW), r=upscale_factor\n",
    "                nn.PReLU()\n",
    "            ]\n",
    "    \n",
    "        self.up= nn.Sequential(\n",
    "            *up\n",
    "        )\n",
    "        \n",
    "        self.conv3 = nn.Sequential(\n",
    "            nn.Conv2d(64, out_c, kernel_size=9, stride=1, padding=4),\n",
    "            nn.Tanh()\n",
    "        )\n",
    "        \n",
    "    def forward(self, x):\n",
    "        o1 = self.conv1(x)\n",
    "        o = self.res_blocks(o1)\n",
    "        o2 = self.conv2(o)\n",
    "        \n",
    "        o = torch.add(o1, o2)\n",
    "        o = self.up(o)\n",
    "        o = self.conv3(o)\n",
    "        return o"
   ]
  },
  {
   "cell_type": "code",
   "execution_count": 7,
   "metadata": {},
   "outputs": [],
   "source": [
    "class Discriminator(nn.Module):\n",
    "    def __init__(self, in_shape):\n",
    "        super(Discriminator, self).__init__()\n",
    "        \n",
    "        self.in_shape = in_shape\n",
    "        in_c, in_h, in_w = self.in_shape\n",
    "        patch_h, patch_w = int(in_h/2**4), int(in_w/2**4)\n",
    "        self.out_shape = (1, patch_h, patch_w)\n",
    "        \n",
    "        def block(in_f, out_f, first=False):\n",
    "            layers = []\n",
    "            layers.append(nn.Conv2d(in_f, out_f, 3, 1, 1))\n",
    "            if not first:\n",
    "                layers.append(nn.BatchNorm2d(out_f))\n",
    "            layers.append(nn.LeakyReLU(0.2, True))\n",
    "            layers.append(nn.Conv2d(out_f, out_f, 3, 2, 1))\n",
    "            layers.append(nn.BatchNorm2d(out_f))\n",
    "            layers.append(nn.LeakyReLU(0.2, True))\n",
    "            \n",
    "            return layers\n",
    "        \n",
    "        in_f = in_c\n",
    "        dis_layers = []\n",
    "        for i, out_f in enumerate([64, 128, 256, 512]):\n",
    "            dis_layers.extend(block(in_f, out_f, first=(i==0)))\n",
    "            in_f = out_f\n",
    "        \n",
    "        dis_layers.append(nn.Conv2d(out_f, 1, 3, 1, 1))\n",
    "        self.discriminator = nn.Sequential(\n",
    "            *dis_layers\n",
    "        )\n",
    "    def forward(self, img):\n",
    "        return self.discriminator(img)"
   ]
  },
  {
   "cell_type": "code",
   "execution_count": 8,
   "metadata": {},
   "outputs": [],
   "source": [
    "from torchvision.models import vgg19\n",
    "\n",
    "class FeatureExtractor(nn.Module):\n",
    "    def __init__(self):\n",
    "        super(FeatureExtractor, self).__init__()\n",
    "        vgg19_model = vgg19(pretrained=True)\n",
    "        self.feature_extractor = nn.Sequential(*list(vgg19_model.features.children())[:18])\n",
    "\n",
    "    def forward(self, img):\n",
    "        return self.feature_extractor(img)"
   ]
  },
  {
   "cell_type": "code",
   "execution_count": 9,
   "metadata": {},
   "outputs": [],
   "source": [
    "hr_shape = (256, 256)\n",
    "\n",
    "generator = GeneratorResNet(3, 3).to(device)\n",
    "discriminator = Discriminator(in_shape=(3, *hr_shape)).to(device)\n",
    "feature_extractor = FeatureExtractor().to(device)"
   ]
  },
  {
   "cell_type": "code",
   "execution_count": 10,
   "metadata": {},
   "outputs": [],
   "source": [
    "# s = summary(generator, inputs=(1, 3, 512//4, 512//4), device=\"cuda\")\n",
    "# # generator"
   ]
  },
  {
   "cell_type": "code",
   "execution_count": 11,
   "metadata": {},
   "outputs": [],
   "source": [
    "optim_g = optim.Adam(generator.parameters(), lr=0.0002, betas=(0.5, 0.999))\n",
    "optim_d = optim.Adam(discriminator.parameters(), lr=0.0002,  betas=(0.5, 0.999))\n",
    "\n",
    "criterion_gan_loss = nn.MSELoss()\n",
    "criterion_content  = nn.L1Loss()"
   ]
  },
  {
   "cell_type": "code",
   "execution_count": 12,
   "metadata": {},
   "outputs": [],
   "source": [
    "from torch.utils.data import Dataset, DataLoader\n",
    "import re\n",
    "\n",
    "class ImageDataset(Dataset):\n",
    "    def __init__(self, root, hr_shape):\n",
    "        mean = np.array([0.485, 0.456, 0.406])\n",
    "        std = np.array([0.229, 0.224, 0.225])\n",
    "        \n",
    "        hr_height, hr_width = hr_shape\n",
    "        self.lr_transform = tfms.Compose(\n",
    "            [\n",
    "                tfms.Resize((hr_height // 4, hr_height // 4), Image.BICUBIC),\n",
    "                tfms.ToTensor(),\n",
    "                tfms.Normalize(mean, std),\n",
    "            ]\n",
    "        )\n",
    "        self.hr_transform = tfms.Compose(\n",
    "            [\n",
    "                tfms.Resize((hr_height, hr_height), Image.BICUBIC),\n",
    "                tfms.ToTensor(),\n",
    "                tfms.Normalize(mean, std),\n",
    "            ]\n",
    "        )\n",
    "\n",
    "        self.lrs = sorted(glob.glob(root + \"LR/*.*\"))\n",
    "        self.hrs = sorted(glob.glob(root + \"HR/*.*\"))\n",
    "\n",
    "    def __getitem__(self, index):\n",
    "        img_lr = Image.open(self.lrs[index % len(self.lrs)])\n",
    "        img_hr = Image.open(self.hrs[index % len(self.hrs)])\n",
    "        \n",
    "        img_lr = self.lr_transform(img_lr)\n",
    "        img_hr = self.hr_transform(img_hr)\n",
    "\n",
    "        return {\"lr\": img_lr, \"hr\": img_hr}\n",
    "\n",
    "    def __len__(self):\n",
    "        return len(self.lrs)"
   ]
  },
  {
   "cell_type": "code",
   "execution_count": 13,
   "metadata": {},
   "outputs": [],
   "source": [
    "data_loader = DataLoader(\n",
    "    ImageDataset(\"../data/SRGAN/\", hr_shape=hr_shape),\n",
    "    batch_size=8,\n",
    "    shuffle=True\n",
    ")"
   ]
  },
  {
   "cell_type": "code",
   "execution_count": 19,
   "metadata": {},
   "outputs": [
    {
     "data": {
      "text/plain": [
       "<All keys matched successfully>"
      ]
     },
     "execution_count": 19,
     "metadata": {},
     "output_type": "execute_result"
    }
   ],
   "source": [
    "generator.load_state_dict(torch.load('./models/generator.ptr'))\n",
    "discriminator.load_state_dict(torch.load('./models/discriminator.ptr'))\n",
    "feature_extractor.load_state_dict(torch.load('./models/feature_extractor.ptr'))"
   ]
  },
  {
   "cell_type": "code",
   "execution_count": 25,
   "metadata": {},
   "outputs": [
    {
     "name": "stdout",
     "output_type": "stream",
     "text": [
      "[Epoch  30/200]    [Batch        0/      35]    [D loss:  0.0056528]    [G loss:  0.8430027]\n",
      "[Epoch  31/200]    [Batch        0/      35]    [D loss:  0.0081026]    [G loss:  0.9632586]\n",
      "[Epoch  32/200]    [Batch        0/      35]    [D loss:  0.0035245]    [G loss:  0.8340473]\n",
      "[Epoch  33/200]    [Batch        0/      35]    [D loss:  0.0084954]    [G loss:  0.9637439]\n",
      "[Epoch  34/200]    [Batch        0/      35]    [D loss:  0.0040131]    [G loss:  0.9517164]\n",
      "[Epoch  35/200]    [Batch        0/      35]    [D loss:  0.0200303]    [G loss:  0.7589475]\n",
      "[Epoch  36/200]    [Batch        0/      35]    [D loss:  0.0024076]    [G loss:  0.7768597]\n",
      "[Epoch  37/200]    [Batch        0/      35]    [D loss:  0.0057516]    [G loss:  0.7512628]\n",
      "[Epoch  38/200]    [Batch        0/      35]    [D loss:  0.0020700]    [G loss:  0.6927186]\n",
      "[Epoch  39/200]    [Batch        0/      35]    [D loss:  0.0008019]    [G loss:  0.6756210]\n",
      "[Epoch  40/200]    [Batch        0/      35]    [D loss:  0.0019863]    [G loss:  0.6883962]\n",
      "[Epoch  41/200]    [Batch        0/      35]    [D loss:  0.0052228]    [G loss:  0.7519148]\n",
      "[Epoch  42/200]    [Batch        0/      35]    [D loss:  0.0035154]    [G loss:  0.8380101]\n",
      "[Epoch  43/200]    [Batch        0/      35]    [D loss:  0.0037255]    [G loss:  0.7508144]\n",
      "[Epoch  44/200]    [Batch        0/      35]    [D loss:  0.0045377]    [G loss:  0.7197215]\n",
      "[Epoch  45/200]    [Batch        0/      35]    [D loss:  0.0068412]    [G loss:  0.8936878]\n",
      "[Epoch  46/200]    [Batch        0/      35]    [D loss:  0.0044714]    [G loss:  0.7632593]\n",
      "[Epoch  47/200]    [Batch        0/      35]    [D loss:  0.0027211]    [G loss:  0.7719370]\n",
      "[Epoch  48/200]    [Batch        0/      35]    [D loss:  0.0061093]    [G loss:  0.6322236]\n",
      "[Epoch  49/200]    [Batch        0/      35]    [D loss:  0.0166907]    [G loss:  0.6511811]\n",
      "[Epoch  50/200]    [Batch        0/      35]    [D loss:  0.0089042]    [G loss:  0.8153900]\n"
     ]
    }
   ],
   "source": [
    "total_batch = len(data_loader)\n",
    "\n",
    "for epoch in range(30, 51):\n",
    "    for batch_idx, imgs in enumerate(data_loader):\n",
    "        lrs = imgs[\"lr\"].to(device).float()\n",
    "        hrs = imgs[\"hr\"].to(device).float()\n",
    "        \n",
    "        valid = torch.ones((lrs.size(0), *discriminator.out_shape), requires_grad=False).to(device)\n",
    "        fake  = torch.zeros((lrs.size(0), *discriminator.out_shape), requires_grad=False).to(device)\n",
    "        \n",
    "        optim_g.zero_grad()\n",
    "        gen_hr = generator(lrs)\n",
    "        \n",
    "        gan_loss = criterion_gan_loss(discriminator(gen_hr), valid)\n",
    "        gen_feature  = feature_extractor(gen_hr)\n",
    "        real_feature = feature_extractor(hrs)\n",
    "        cotent_loss = criterion_content(gen_feature, real_feature.detach())\n",
    "        \n",
    "        loss_G = 1e-3 * gan_loss + cotent_loss\n",
    "        loss_G.backward()\n",
    "        optim_g.step()\n",
    "        \n",
    "        optim_d.zero_grad()\n",
    "        \n",
    "        real_loss = criterion_gan_loss(discriminator(hrs), valid)\n",
    "        fake_loss = criterion_content(discriminator(gen_hr.detach()), fake)\n",
    "        loss_D = .5 * (real_loss + fake_loss)\n",
    "        loss_D.backward()\n",
    "        optim_d.step()\n",
    "        \n",
    "        if batch_idx % 100 == 0:\n",
    "            sys.stdout.write(\n",
    "                \"[Epoch {:3d}/{:3d}]    [Batch {:8d}/{:8d}]    [D loss: {:10.7f}]    [G loss: {:10.7f}]\\n\".format(\n",
    "                    epoch, 200, batch_idx, total_batch, loss_D.item(), loss_G.item()\n",
    "            ))\n",
    "        \n",
    "        batches_done = (epoch-1) * total_batch + batch_idx\n",
    "        if batches_done % 100 == 0:\n",
    "            # Save image grid with upsampled inputs and SRGAN outputs\n",
    "            imgs_lr = nn.functional.interpolate(lrs, scale_factor=4)\n",
    "\n",
    "            gen_hr = make_grid(gen_hr, nrow=1, normalize=True)\n",
    "            imgs_lr = make_grid(imgs_lr, nrow=1, normalize=True)\n",
    "            imgs_hr = make_grid(hrs, nrow=1, normalize=True)\n",
    "            img_grid = torch.cat((imgs_lr, imgs_hr, gen_hr), -1)\n",
    "            save_image(img_grid, \"imgs2/%d.png\" % batches_done, normalize=False)"
   ]
  },
  {
   "cell_type": "code",
   "execution_count": 26,
   "metadata": {},
   "outputs": [],
   "source": [
    "torch.save(generator.state_dict(), \"./models/generator.ptr\")\n",
    "torch.save(discriminator.state_dict(), \"./models/discriminator.ptr\")\n",
    "torch.save(feature_extractor.state_dict(), \"./models/feature_extractor.ptr\")"
   ]
  },
  {
   "cell_type": "code",
   "execution_count": null,
   "metadata": {},
   "outputs": [],
   "source": []
  }
 ],
 "metadata": {
  "kernelspec": {
   "display_name": "Pytorch",
   "language": "python",
   "name": "pytorch"
  },
  "language_info": {
   "codemirror_mode": {
    "name": "ipython",
    "version": 3
   },
   "file_extension": ".py",
   "mimetype": "text/x-python",
   "name": "python",
   "nbconvert_exporter": "python",
   "pygments_lexer": "ipython3",
   "version": "3.7.4"
  }
 },
 "nbformat": 4,
 "nbformat_minor": 4
}
